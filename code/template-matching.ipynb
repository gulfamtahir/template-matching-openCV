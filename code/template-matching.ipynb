{
 "cells": [
  {
   "cell_type": "code",
   "execution_count": 1,
   "id": "5326c287",
   "metadata": {},
   "outputs": [],
   "source": [
    "import numpy as np\n",
    "import cv2\n"
   ]
  },
  {
   "cell_type": "code",
   "execution_count": 11,
   "id": "f3edfb95",
   "metadata": {},
   "outputs": [],
   "source": [
    "# load image as grey scale as many of the algorithms required gray scale image by putting 0 or using cv2,cvtcolor\n",
    "img = cv2.resize(cv2.imread(\"soccer_practice.jpg\",0),(0,0),fx=0.5,fy=0.5) \n",
    "template = cv2.resize(cv2.imread(\"shoe.PNG\",0),(0,0),fx=0.5,fy=0.5) \n",
    "height, width = template.shape  # in grey scale image there is no third channel\n",
    "img2 = img.copy()\n",
    "\n",
    "\n",
    "\n",
    "methods = [cv2.TM_CCOEFF, cv2.TM_CCOEFF_NORMED, cv2.TM_CCORR,\n",
    "            cv2.TM_CCORR_NORMED, cv2.TM_SQDIFF, cv2.TM_SQDIFF_NORMED]\n",
    "\n",
    "for method in methods:\n",
    "    img2 = img.copy()\n",
    "    \n",
    "    result = cv2.matchTemplate(img2,template,method) \n",
    "    # it is kind of convolution because here we are dragging template image over the \n",
    "    #original one and in result it will return us the 2D array as (H - h +1 , W - w +1)\n",
    "    # H,W = belongs to the original base image\n",
    "    # h,w = belongs to the template image\n",
    "    min_value , max_value , min_location , max_location = cv2.minMaxLoc(result)\n",
    "    \n",
    "    if method in [cv2.TM_SQDIFF , cv2.TM_SQDIFF_NORMED]:\n",
    "        location = min_location              # these are the top left corners for the rectangle \n",
    "    else:\n",
    "        location = max_location\n",
    "    \n",
    "    bottom_right = (location[0] + width , location[1] + height)\n",
    "    # we did this beacuse we know the top left corners and to define the botton right corner\n",
    "    # we know the height and width of the template image then we need to add width in horizantal direction \n",
    "    # and the height in the vertical direction of the template image that will give us the bottom ride hand corner\n",
    "    # which will give the same size as the template image\n",
    "     \n",
    "    cv2.rectangle(img2 , location , bottom_right , 255 , 5)\n",
    "    cv2.imshow(\"Soccer\",img2)\n",
    "    cv2.waitKey(0)\n",
    "    cv2.destroyAllWindows()\n",
    "\n",
    "\n",
    "    \n",
    "\n",
    "\n",
    "\n"
   ]
  },
  {
   "cell_type": "code",
   "execution_count": null,
   "id": "55a8d3b3",
   "metadata": {},
   "outputs": [],
   "source": []
  },
  {
   "cell_type": "code",
   "execution_count": null,
   "id": "05419e0c",
   "metadata": {},
   "outputs": [],
   "source": []
  }
 ],
 "metadata": {
  "kernelspec": {
   "display_name": "Python 3 (ipykernel)",
   "language": "python",
   "name": "python3"
  },
  "language_info": {
   "codemirror_mode": {
    "name": "ipython",
    "version": 3
   },
   "file_extension": ".py",
   "mimetype": "text/x-python",
   "name": "python",
   "nbconvert_exporter": "python",
   "pygments_lexer": "ipython3",
   "version": "3.9.13"
  }
 },
 "nbformat": 4,
 "nbformat_minor": 5
}
